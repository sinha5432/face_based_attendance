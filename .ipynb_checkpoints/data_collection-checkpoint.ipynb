{
 "cells": [
  {
   "cell_type": "code",
   "execution_count": null,
   "id": "b37a3f4f",
   "metadata": {},
   "outputs": [],
   "source": [
    "#Save images using Webcam\n",
    "#Using mediapipe library\n",
    "\n",
    "import cv2\n",
    "from time import sleep\n",
    "import mediapipe as mp\n",
    "\n",
    "\n",
    "video_capture = cv2.VideoCapture(0)\n",
    "font = cv2.FONT_HERSHEY_SIMPLEX\n",
    "\n",
    "mpFaceDetection = mp.solutions.face_detection\n",
    "faceDetection = mpFaceDetection.FaceDetection(0.45)\n",
    "\n",
    "num=0\n",
    "directory = r'Images/sanskar/'\n",
    "\n",
    "while num<200:\n",
    "\n",
    "    ret, frame = video_capture.read()\n",
    "\n",
    "    imgRGB = cv2.cvtColor(frame, cv2.COLOR_BGR2RGB)\n",
    "    results = faceDetection.process(imgRGB)\n",
    "\n",
    "    \n",
    "\n",
    "    if(results.detections):\n",
    "        for id, detection in enumerate(results.detections):\n",
    "            \n",
    "            bboxC = detection.location_data.relative_bounding_box\n",
    "            img_h, img_w, img_c = frame.shape\n",
    "            \n",
    "            xmin = int(bboxC.xmin * img_w)\n",
    "            ymin = int(bboxC.ymin * img_h)\n",
    "            w = int(bboxC.width * img_w)\n",
    "            h = int(bboxC.height * img_h)\n",
    "\n",
    "            frame = frame[ymin:ymin+h, xmin:xmin+w]\n",
    "            \n",
    "            \n",
    "            \n",
    "            cv2.imwrite(directory + str(num) + '.jpg', frame)\n",
    "\n",
    "            cv2.imshow('Video', frame)\n",
    "            cv2.waitKey(1)\n",
    "            num+=1\n",
    "            sleep(0.01)\n",
    "            \n",
    "    \n",
    "\n",
    "\n",
    "video_capture.release()\n",
    "cv2.destroyAllWindows()"
   ]
  },
  {
   "cell_type": "code",
   "execution_count": 15,
   "id": "fa21b87e",
   "metadata": {
    "scrolled": true
   },
   "outputs": [
    {
     "name": "stdout",
     "output_type": "stream",
     "text": [
      "10577730961c4a5b858cbcbe9fac9e28_18.jpeg\n",
      "1140-queen-elizabeth-ii-imgcache-reva45fd7d51937875d02cb788c.jpg\n",
      "1608608031_untitled-design-2020-12-22t090233-473.png\n",
      "200421-queen-elizabeth-mc-1141-3316576.JPG\n",
      "200727152917-01-queen-videocall.jpg\n",
      "2020-10-15T142556Z_10544968_RC22JJ97D7TI_RTRMADP_3_BRITAIN-R.JPG\n",
      "53063940_303.jpg\n",
      "6080265a44f4540019207e70.jpeg\n",
      "a8227b16-3376-4bcd-b94c-39c16b2dd13c-GTY_1209189642.JPG\n"
     ]
    },
    {
     "ename": "AttributeError",
     "evalue": "'NoneType' object has no attribute 'size'",
     "output_type": "error",
     "traceback": [
      "\u001b[1;31m---------------------------------------------------------------------------\u001b[0m",
      "\u001b[1;31mAttributeError\u001b[0m                            Traceback (most recent call last)",
      "\u001b[1;32m<ipython-input-15-9c25dadc393d>\u001b[0m in \u001b[0;36m<module>\u001b[1;34m\u001b[0m\n\u001b[0;32m     20\u001b[0m \u001b[1;33m\u001b[0m\u001b[0m\n\u001b[0;32m     21\u001b[0m     \u001b[0mframe\u001b[0m \u001b[1;33m=\u001b[0m \u001b[0mcv2\u001b[0m\u001b[1;33m.\u001b[0m\u001b[0mimread\u001b[0m\u001b[1;33m(\u001b[0m\u001b[0mdir_read\u001b[0m \u001b[1;33m+\u001b[0m \u001b[0mstr\u001b[0m\u001b[1;33m(\u001b[0m\u001b[0mfilename\u001b[0m\u001b[1;33m)\u001b[0m\u001b[1;33m)\u001b[0m\u001b[1;33m\u001b[0m\u001b[1;33m\u001b[0m\u001b[0m\n\u001b[1;32m---> 22\u001b[1;33m     \u001b[1;32mif\u001b[0m\u001b[1;33m(\u001b[0m\u001b[0mframe\u001b[0m\u001b[1;33m.\u001b[0m\u001b[0msize\u001b[0m\u001b[1;33m)\u001b[0m\u001b[1;33m:\u001b[0m\u001b[1;33m\u001b[0m\u001b[1;33m\u001b[0m\u001b[0m\n\u001b[0m\u001b[0;32m     23\u001b[0m         \u001b[0mimgRGB\u001b[0m \u001b[1;33m=\u001b[0m \u001b[0mcv2\u001b[0m\u001b[1;33m.\u001b[0m\u001b[0mcvtColor\u001b[0m\u001b[1;33m(\u001b[0m\u001b[0mframe\u001b[0m\u001b[1;33m,\u001b[0m \u001b[0mcv2\u001b[0m\u001b[1;33m.\u001b[0m\u001b[0mCOLOR_BGR2RGB\u001b[0m\u001b[1;33m)\u001b[0m\u001b[1;33m\u001b[0m\u001b[1;33m\u001b[0m\u001b[0m\n\u001b[0;32m     24\u001b[0m         \u001b[0mresults\u001b[0m \u001b[1;33m=\u001b[0m \u001b[0mfaceDetection\u001b[0m\u001b[1;33m.\u001b[0m\u001b[0mprocess\u001b[0m\u001b[1;33m(\u001b[0m\u001b[0mimgRGB\u001b[0m\u001b[1;33m)\u001b[0m\u001b[1;33m\u001b[0m\u001b[1;33m\u001b[0m\u001b[0m\n",
      "\u001b[1;31mAttributeError\u001b[0m: 'NoneType' object has no attribute 'size'"
     ]
    }
   ],
   "source": [
    "#Code to read images and detect faces in it\n",
    "#Saving fcropped faces in different directory\n",
    "\n",
    "import os\n",
    "import cv2\n",
    "from time import sleep\n",
    "import mediapipe as mp\n",
    "\n",
    "\n",
    "mpFaceDetection = mp.solutions.face_detection\n",
    "faceDetection = mpFaceDetection.FaceDetection(0.85)\n",
    "\n",
    "dir_read = r'unprocessed_data/queen_elizabeth/'\n",
    "dir_write = r'Images/queen_elizabeth/'\n",
    "\n",
    "\n",
    "\n",
    "for i, filename in enumerate(os.listdir(dir_read)):\n",
    "    \n",
    "        \n",
    "    frame = cv2.imread(dir_read + str(filename))\n",
    "    if(frame is not None):\n",
    "        imgRGB = cv2.cvtColor(frame, cv2.COLOR_BGR2RGB)\n",
    "        results = faceDetection.process(imgRGB)\n",
    "\n",
    "\n",
    "    if(results.detections):\n",
    "        for id, detection in enumerate(results.detections):\n",
    "\n",
    "            bboxC = detection.location_data.relative_bounding_box\n",
    "            img_h, img_w, img_c = frame.shape\n",
    "\n",
    "            xmin = int(bboxC.xmin * img_w)\n",
    "            ymin = int(bboxC.ymin * img_h)\n",
    "            w = int(bboxC.width * img_w)\n",
    "            h = int(bboxC.height * img_h)\n",
    "\n",
    "            new_frame = frame[ymin:ymin+h, xmin:xmin+w]\n",
    "            if(new_frame.size):\n",
    "                new_frame = cv2.resize(new_frame, (224, 224), interpolation = cv2.INTER_CUBIC)\n",
    "                print(filename)\n",
    "                cv2.imwrite(dir_write + str(i) + '.jpg', new_frame)\n",
    "\n",
    "\n",
    "\n",
    "            "
   ]
  },
  {
   "cell_type": "code",
   "execution_count": 9,
   "id": "677627f4",
   "metadata": {},
   "outputs": [],
   "source": [
    "#Renaming them again after manual deleting\n",
    "\n",
    "import os\n",
    "#dir_write = r'Images/barack_obama/'\n",
    "\n",
    "\n",
    "for i, filename in enumerate(os.listdir(dir_write)):\n",
    "    os.rename(dir_write + filename,dir_write + 'donald' + str(i) + '.jpg')\n",
    "        \n",
    "\n",
    "for i, filename in enumerate(os.listdir(dir_write)):\n",
    "    os.rename(dir_write + filename,dir_write + str(i) + '.jpg')"
   ]
  },
  {
   "cell_type": "code",
   "execution_count": 5,
   "id": "956d62e9",
   "metadata": {},
   "outputs": [],
   "source": []
  },
  {
   "cell_type": "code",
   "execution_count": null,
   "id": "b27d8de3",
   "metadata": {},
   "outputs": [],
   "source": []
  }
 ],
 "metadata": {
  "kernelspec": {
   "display_name": "Python 3",
   "language": "python",
   "name": "python3"
  },
  "language_info": {
   "codemirror_mode": {
    "name": "ipython",
    "version": 3
   },
   "file_extension": ".py",
   "mimetype": "text/x-python",
   "name": "python",
   "nbconvert_exporter": "python",
   "pygments_lexer": "ipython3",
   "version": "3.8.10"
  }
 },
 "nbformat": 4,
 "nbformat_minor": 5
}

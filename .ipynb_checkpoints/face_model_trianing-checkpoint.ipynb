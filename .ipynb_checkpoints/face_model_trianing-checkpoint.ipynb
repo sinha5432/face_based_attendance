{
 "cells": [
  {
   "cell_type": "code",
   "execution_count": 1,
   "metadata": {
    "colab": {
     "base_uri": "https://localhost:8080/"
    },
    "executionInfo": {
     "elapsed": 26854,
     "status": "ok",
     "timestamp": 1623840767164,
     "user": {
      "displayName": "Manasvi Sinha",
      "photoUrl": "https://lh3.googleusercontent.com/a-/AOh14Ggg6B7Dol6gHNz3V67BDIVoqO7HHq9s_uHG68ppFQ=s64",
      "userId": "09024498764210840462"
     },
     "user_tz": -330
    },
    "id": "pJrkBCvWzE59",
    "outputId": "b648c08f-f691-402d-8468-6c8ccb3c85d2"
   },
   "outputs": [
    {
     "name": "stdout",
     "output_type": "stream",
     "text": [
      "Mounted at /content/drive\n"
     ]
    }
   ],
   "source": [
    "from google.colab import drive\n",
    "drive.mount('/content/drive')"
   ]
  },
  {
   "cell_type": "code",
   "execution_count": 2,
   "metadata": {
    "executionInfo": {
     "elapsed": 3011,
     "status": "ok",
     "timestamp": 1623840782103,
     "user": {
      "displayName": "Manasvi Sinha",
      "photoUrl": "https://lh3.googleusercontent.com/a-/AOh14Ggg6B7Dol6gHNz3V67BDIVoqO7HHq9s_uHG68ppFQ=s64",
      "userId": "09024498764210840462"
     },
     "user_tz": -330
    },
    "id": "Zk5AN5qdzkkg"
   },
   "outputs": [],
   "source": [
    "from keras.layers import Input, Lambda, Dense, Flatten\n",
    "from keras.models import Model\n",
    "from keras.applications.vgg16 import VGG16\n",
    "from keras.applications.vgg16 import preprocess_input\n",
    "from keras.preprocessing import image\n",
    "from keras.preprocessing.image import ImageDataGenerator\n",
    "from keras.models import Sequential\n",
    "import numpy as np\n",
    "from glob import glob"
   ]
  },
  {
   "cell_type": "code",
   "execution_count": 4,
   "metadata": {
    "executionInfo": {
     "elapsed": 607,
     "status": "ok",
     "timestamp": 1623840902300,
     "user": {
      "displayName": "Manasvi Sinha",
      "photoUrl": "https://lh3.googleusercontent.com/a-/AOh14Ggg6B7Dol6gHNz3V67BDIVoqO7HHq9s_uHG68ppFQ=s64",
      "userId": "09024498764210840462"
     },
     "user_tz": -330
    },
    "id": "YOROwx7L0w5f"
   },
   "outputs": [],
   "source": [
    "IMAGE_SIZE = [224, 224]\n",
    "\n",
    "train_path = r'/content/drive/MyDrive/face_detection_files/Images/train'\n",
    "valid_path = r'/content/drive/MyDrive/face_detection_files/Images/test'"
   ]
  },
  {
   "cell_type": "code",
   "execution_count": 7,
   "metadata": {
    "executionInfo": {
     "elapsed": 674,
     "status": "ok",
     "timestamp": 1623841092840,
     "user": {
      "displayName": "Manasvi Sinha",
      "photoUrl": "https://lh3.googleusercontent.com/a-/AOh14Ggg6B7Dol6gHNz3V67BDIVoqO7HHq9s_uHG68ppFQ=s64",
      "userId": "09024498764210840462"
     },
     "user_tz": -330
    },
    "id": "iaUDbde6dKx-"
   },
   "outputs": [],
   "source": [
    "vgg = VGG16(input_shape=IMAGE_SIZE + [3], weights = 'imagenet', include_top=False)\n",
    "\n",
    "for layer in vgg.layers:\n",
    "  layer.trainable = False"
   ]
  },
  {
   "cell_type": "code",
   "execution_count": 8,
   "metadata": {
    "colab": {
     "base_uri": "https://localhost:8080/"
    },
    "executionInfo": {
     "elapsed": 2755,
     "status": "ok",
     "timestamp": 1623841102631,
     "user": {
      "displayName": "Manasvi Sinha",
      "photoUrl": "https://lh3.googleusercontent.com/a-/AOh14Ggg6B7Dol6gHNz3V67BDIVoqO7HHq9s_uHG68ppFQ=s64",
      "userId": "09024498764210840462"
     },
     "user_tz": -330
    },
    "id": "9E3VhhtRd0m5",
    "outputId": "a6ad793e-e251-402d-d424-449f24d47cfa"
   },
   "outputs": [
    {
     "name": "stdout",
     "output_type": "stream",
     "text": [
      "Model: \"vgg16\"\n",
      "_________________________________________________________________\n",
      "Layer (type)                 Output Shape              Param #   \n",
      "=================================================================\n",
      "input_2 (InputLayer)         [(None, 224, 224, 3)]     0         \n",
      "_________________________________________________________________\n",
      "block1_conv1 (Conv2D)        (None, 224, 224, 64)      1792      \n",
      "_________________________________________________________________\n",
      "block1_conv2 (Conv2D)        (None, 224, 224, 64)      36928     \n",
      "_________________________________________________________________\n",
      "block1_pool (MaxPooling2D)   (None, 112, 112, 64)      0         \n",
      "_________________________________________________________________\n",
      "block2_conv1 (Conv2D)        (None, 112, 112, 128)     73856     \n",
      "_________________________________________________________________\n",
      "block2_conv2 (Conv2D)        (None, 112, 112, 128)     147584    \n",
      "_________________________________________________________________\n",
      "block2_pool (MaxPooling2D)   (None, 56, 56, 128)       0         \n",
      "_________________________________________________________________\n",
      "block3_conv1 (Conv2D)        (None, 56, 56, 256)       295168    \n",
      "_________________________________________________________________\n",
      "block3_conv2 (Conv2D)        (None, 56, 56, 256)       590080    \n",
      "_________________________________________________________________\n",
      "block3_conv3 (Conv2D)        (None, 56, 56, 256)       590080    \n",
      "_________________________________________________________________\n",
      "block3_pool (MaxPooling2D)   (None, 28, 28, 256)       0         \n",
      "_________________________________________________________________\n",
      "block4_conv1 (Conv2D)        (None, 28, 28, 512)       1180160   \n",
      "_________________________________________________________________\n",
      "block4_conv2 (Conv2D)        (None, 28, 28, 512)       2359808   \n",
      "_________________________________________________________________\n",
      "block4_conv3 (Conv2D)        (None, 28, 28, 512)       2359808   \n",
      "_________________________________________________________________\n",
      "block4_pool (MaxPooling2D)   (None, 14, 14, 512)       0         \n",
      "_________________________________________________________________\n",
      "block5_conv1 (Conv2D)        (None, 14, 14, 512)       2359808   \n",
      "_________________________________________________________________\n",
      "block5_conv2 (Conv2D)        (None, 14, 14, 512)       2359808   \n",
      "_________________________________________________________________\n",
      "block5_conv3 (Conv2D)        (None, 14, 14, 512)       2359808   \n",
      "_________________________________________________________________\n",
      "block5_pool (MaxPooling2D)   (None, 7, 7, 512)         0         \n",
      "=================================================================\n",
      "Total params: 14,714,688\n",
      "Trainable params: 0\n",
      "Non-trainable params: 14,714,688\n",
      "_________________________________________________________________\n"
     ]
    }
   ],
   "source": [
    "vgg.summary()"
   ]
  },
  {
   "cell_type": "code",
   "execution_count": 14,
   "metadata": {
    "executionInfo": {
     "elapsed": 9,
     "status": "ok",
     "timestamp": 1623841298408,
     "user": {
      "displayName": "Manasvi Sinha",
      "photoUrl": "https://lh3.googleusercontent.com/a-/AOh14Ggg6B7Dol6gHNz3V67BDIVoqO7HHq9s_uHG68ppFQ=s64",
      "userId": "09024498764210840462"
     },
     "user_tz": -330
    },
    "id": "kcEbS5rld7zR"
   },
   "outputs": [],
   "source": [
    "folders = glob(r'/content/drive/MyDrive/face_detection_files/Images/train/*')"
   ]
  },
  {
   "cell_type": "code",
   "execution_count": 15,
   "metadata": {
    "colab": {
     "base_uri": "https://localhost:8080/"
    },
    "executionInfo": {
     "elapsed": 16,
     "status": "ok",
     "timestamp": 1623841309915,
     "user": {
      "displayName": "Manasvi Sinha",
      "photoUrl": "https://lh3.googleusercontent.com/a-/AOh14Ggg6B7Dol6gHNz3V67BDIVoqO7HHq9s_uHG68ppFQ=s64",
      "userId": "09024498764210840462"
     },
     "user_tz": -330
    },
    "id": "eBP12ukteZip",
    "outputId": "cf2c32b4-83d2-4ef8-c972-ae56f3b4a4c7"
   },
   "outputs": [
    {
     "name": "stdout",
     "output_type": "stream",
     "text": [
      "['/content/drive/MyDrive/face_detection_files/Images/train/donald_trump', '/content/drive/MyDrive/face_detection_files/Images/train/bill_gates', '/content/drive/MyDrive/face_detection_files/Images/train/queen_elizabeth', '/content/drive/MyDrive/face_detection_files/Images/train/barack_obama']\n"
     ]
    }
   ],
   "source": [
    "print(folders)"
   ]
  },
  {
   "cell_type": "code",
   "execution_count": 17,
   "metadata": {
    "executionInfo": {
     "elapsed": 3139,
     "status": "ok",
     "timestamp": 1623841506333,
     "user": {
      "displayName": "Manasvi Sinha",
      "photoUrl": "https://lh3.googleusercontent.com/a-/AOh14Ggg6B7Dol6gHNz3V67BDIVoqO7HHq9s_uHG68ppFQ=s64",
      "userId": "09024498764210840462"
     },
     "user_tz": -330
    },
    "id": "wmMfqjDVef5Z"
   },
   "outputs": [],
   "source": [
    "x = Flatten()(vgg.output)\n",
    "\n",
    "prediction = Dense(len(folders), activation = 'softmax')(x)\n",
    "\n",
    "model = Model(inputs=vgg.input, outputs = prediction)"
   ]
  },
  {
   "cell_type": "code",
   "execution_count": 18,
   "metadata": {
    "colab": {
     "base_uri": "https://localhost:8080/"
    },
    "executionInfo": {
     "elapsed": 23,
     "status": "ok",
     "timestamp": 1623841512454,
     "user": {
      "displayName": "Manasvi Sinha",
      "photoUrl": "https://lh3.googleusercontent.com/a-/AOh14Ggg6B7Dol6gHNz3V67BDIVoqO7HHq9s_uHG68ppFQ=s64",
      "userId": "09024498764210840462"
     },
     "user_tz": -330
    },
    "id": "CBKnM_OxfjCq",
    "outputId": "b74b4c65-52ee-451b-b4d5-764f19bc66b2"
   },
   "outputs": [
    {
     "name": "stdout",
     "output_type": "stream",
     "text": [
      "Model: \"model\"\n",
      "_________________________________________________________________\n",
      "Layer (type)                 Output Shape              Param #   \n",
      "=================================================================\n",
      "input_2 (InputLayer)         [(None, 224, 224, 3)]     0         \n",
      "_________________________________________________________________\n",
      "block1_conv1 (Conv2D)        (None, 224, 224, 64)      1792      \n",
      "_________________________________________________________________\n",
      "block1_conv2 (Conv2D)        (None, 224, 224, 64)      36928     \n",
      "_________________________________________________________________\n",
      "block1_pool (MaxPooling2D)   (None, 112, 112, 64)      0         \n",
      "_________________________________________________________________\n",
      "block2_conv1 (Conv2D)        (None, 112, 112, 128)     73856     \n",
      "_________________________________________________________________\n",
      "block2_conv2 (Conv2D)        (None, 112, 112, 128)     147584    \n",
      "_________________________________________________________________\n",
      "block2_pool (MaxPooling2D)   (None, 56, 56, 128)       0         \n",
      "_________________________________________________________________\n",
      "block3_conv1 (Conv2D)        (None, 56, 56, 256)       295168    \n",
      "_________________________________________________________________\n",
      "block3_conv2 (Conv2D)        (None, 56, 56, 256)       590080    \n",
      "_________________________________________________________________\n",
      "block3_conv3 (Conv2D)        (None, 56, 56, 256)       590080    \n",
      "_________________________________________________________________\n",
      "block3_pool (MaxPooling2D)   (None, 28, 28, 256)       0         \n",
      "_________________________________________________________________\n",
      "block4_conv1 (Conv2D)        (None, 28, 28, 512)       1180160   \n",
      "_________________________________________________________________\n",
      "block4_conv2 (Conv2D)        (None, 28, 28, 512)       2359808   \n",
      "_________________________________________________________________\n",
      "block4_conv3 (Conv2D)        (None, 28, 28, 512)       2359808   \n",
      "_________________________________________________________________\n",
      "block4_pool (MaxPooling2D)   (None, 14, 14, 512)       0         \n",
      "_________________________________________________________________\n",
      "block5_conv1 (Conv2D)        (None, 14, 14, 512)       2359808   \n",
      "_________________________________________________________________\n",
      "block5_conv2 (Conv2D)        (None, 14, 14, 512)       2359808   \n",
      "_________________________________________________________________\n",
      "block5_conv3 (Conv2D)        (None, 14, 14, 512)       2359808   \n",
      "_________________________________________________________________\n",
      "block5_pool (MaxPooling2D)   (None, 7, 7, 512)         0         \n",
      "_________________________________________________________________\n",
      "flatten_1 (Flatten)          (None, 25088)             0         \n",
      "_________________________________________________________________\n",
      "dense_1 (Dense)              (None, 4)                 100356    \n",
      "=================================================================\n",
      "Total params: 14,815,044\n",
      "Trainable params: 100,356\n",
      "Non-trainable params: 14,714,688\n",
      "_________________________________________________________________\n"
     ]
    }
   ],
   "source": [
    "model.summary()"
   ]
  },
  {
   "cell_type": "code",
   "execution_count": 19,
   "metadata": {
    "executionInfo": {
     "elapsed": 2534,
     "status": "ok",
     "timestamp": 1623841588196,
     "user": {
      "displayName": "Manasvi Sinha",
      "photoUrl": "https://lh3.googleusercontent.com/a-/AOh14Ggg6B7Dol6gHNz3V67BDIVoqO7HHq9s_uHG68ppFQ=s64",
      "userId": "09024498764210840462"
     },
     "user_tz": -330
    },
    "id": "fGDusMokfwlt"
   },
   "outputs": [],
   "source": [
    "model.compile(loss = 'categorical_crossentropy', optimizer = 'adam', metrics=['accuracy'])"
   ]
  },
  {
   "cell_type": "code",
   "execution_count": 22,
   "metadata": {
    "colab": {
     "base_uri": "https://localhost:8080/"
    },
    "executionInfo": {
     "elapsed": 2506,
     "status": "ok",
     "timestamp": 1623842261191,
     "user": {
      "displayName": "Manasvi Sinha",
      "photoUrl": "https://lh3.googleusercontent.com/a-/AOh14Ggg6B7Dol6gHNz3V67BDIVoqO7HHq9s_uHG68ppFQ=s64",
      "userId": "09024498764210840462"
     },
     "user_tz": -330
    },
    "id": "MAmxl-pOgDav",
    "outputId": "ae347f21-3ce2-4c91-efdc-52690ea449ba"
   },
   "outputs": [
    {
     "name": "stdout",
     "output_type": "stream",
     "text": [
      "Found 434 images belonging to 4 classes.\n",
      "Found 108 images belonging to 4 classes.\n"
     ]
    }
   ],
   "source": [
    "train_datagen = ImageDataGenerator(rescale = 1./255, \n",
    "                                   shear_range = 0.2,\n",
    "                                   zoom_range = 0.2,\n",
    "                                   horizontal_flip = True)\n",
    "\n",
    "test_datagen = ImageDataGenerator(rescale = 1./255)\n",
    "\n",
    "training_set = train_datagen.flow_from_directory(r'/content/drive/MyDrive/face_detection_files/Images/train',\n",
    "                                                 target_size = (224, 224),\n",
    "                                                 batch_size = 32,\n",
    "                                                 class_mode = 'categorical')\n",
    "\n",
    "test_set = test_datagen.flow_from_directory(r'/content/drive/MyDrive/face_detection_files/Images/test',\n",
    "                                            target_size = (224,224),\n",
    "                                            batch_size = 32,\n",
    "                                            class_mode = 'categorical')"
   ]
  },
  {
   "cell_type": "code",
   "execution_count": 24,
   "metadata": {
    "colab": {
     "base_uri": "https://localhost:8080/"
    },
    "executionInfo": {
     "elapsed": 358714,
     "status": "ok",
     "timestamp": 1623842808433,
     "user": {
      "displayName": "Manasvi Sinha",
      "photoUrl": "https://lh3.googleusercontent.com/a-/AOh14Ggg6B7Dol6gHNz3V67BDIVoqO7HHq9s_uHG68ppFQ=s64",
      "userId": "09024498764210840462"
     },
     "user_tz": -330
    },
    "id": "Mh1k2ItWiI75",
    "outputId": "50103fd0-0cc3-4fb8-f6cb-e3580c01c9d1"
   },
   "outputs": [
    {
     "name": "stderr",
     "output_type": "stream",
     "text": [
      "/usr/local/lib/python3.7/dist-packages/keras/engine/training.py:1915: UserWarning: `Model.fit_generator` is deprecated and will be removed in a future version. Please use `Model.fit`, which supports generators.\n",
      "  warnings.warn('`Model.fit_generator` is deprecated and '\n"
     ]
    },
    {
     "name": "stdout",
     "output_type": "stream",
     "text": [
      "Epoch 1/5\n",
      "14/14 [==============================] - 310s 18s/step - loss: 1.8062 - accuracy: 0.3791 - val_loss: 0.5154 - val_accuracy: 0.8241\n",
      "Epoch 2/5\n",
      "14/14 [==============================] - 8s 545ms/step - loss: 0.3763 - accuracy: 0.8625 - val_loss: 0.2197 - val_accuracy: 0.9537\n",
      "Epoch 3/5\n",
      "14/14 [==============================] - 8s 552ms/step - loss: 0.1543 - accuracy: 0.9715 - val_loss: 0.1729 - val_accuracy: 0.9630\n",
      "Epoch 4/5\n",
      "14/14 [==============================] - 8s 548ms/step - loss: 0.1116 - accuracy: 0.9828 - val_loss: 0.1466 - val_accuracy: 0.9722\n",
      "Epoch 5/5\n",
      "14/14 [==============================] - 8s 545ms/step - loss: 0.1017 - accuracy: 0.9776 - val_loss: 0.1330 - val_accuracy: 0.9722\n"
     ]
    }
   ],
   "source": [
    "r = model.fit(training_set, validation_data = test_set, epochs = 5, steps_per_epoch = len(training_set), validation_steps = len(test_set))"
   ]
  },
  {
   "cell_type": "code",
   "execution_count": 27,
   "metadata": {
    "executionInfo": {
     "elapsed": 564,
     "status": "ok",
     "timestamp": 1623842960304,
     "user": {
      "displayName": "Manasvi Sinha",
      "photoUrl": "https://lh3.googleusercontent.com/a-/AOh14Ggg6B7Dol6gHNz3V67BDIVoqO7HHq9s_uHG68ppFQ=s64",
      "userId": "09024498764210840462"
     },
     "user_tz": -330
    },
    "id": "kPTnlincjQ0Q"
   },
   "outputs": [],
   "source": [
    "model.save('/content/drive/MyDrive/face_detection_files/vgg16_model.h5')"
   ]
  },
  {
   "cell_type": "code",
   "execution_count": 31,
   "metadata": {
    "colab": {
     "base_uri": "https://localhost:8080/",
     "height": 283
    },
    "executionInfo": {
     "elapsed": 689,
     "status": "ok",
     "timestamp": 1623843296207,
     "user": {
      "displayName": "Manasvi Sinha",
      "photoUrl": "https://lh3.googleusercontent.com/a-/AOh14Ggg6B7Dol6gHNz3V67BDIVoqO7HHq9s_uHG68ppFQ=s64",
      "userId": "09024498764210840462"
     },
     "user_tz": -330
    },
    "id": "f7i8QtsQk6A8",
    "outputId": "2c5b7ef1-eee1-42c9-82f6-3aa31ea9a497"
   },
   "outputs": [
    {
     "data": {
      "text/plain": [
       "<matplotlib.legend.Legend at 0x7ffabb1a3c90>"
      ]
     },
     "execution_count": 31,
     "metadata": {
      "tags": []
     },
     "output_type": "execute_result"
    },
    {
     "data": {
      "image/png": "[encoded data removed]",
      "text/plain": [
       "<Figure size 432x288 with 1 Axes>"
      ]
     },
     "metadata": {
      "needs_background": "light",
      "tags": []
     },
     "output_type": "display_data"
    }
   ],
   "source": [
    "#Losses\n",
    "\n",
    "from matplotlib import pyplot as plt\n",
    "\n",
    "\n",
    "plt.plot(r.history['loss'], label = 'train loss')\n",
    "plt.plot(r.history['val_loss'], label = 'val loss')\n",
    "plt.legend()"
   ]
  },
  {
   "cell_type": "code",
   "execution_count": 36,
   "metadata": {
    "colab": {
     "base_uri": "https://localhost:8080/",
     "height": 265
    },
    "executionInfo": {
     "elapsed": 647,
     "status": "ok",
     "timestamp": 1623843448473,
     "user": {
      "displayName": "Manasvi Sinha",
      "photoUrl": "https://lh3.googleusercontent.com/a-/AOh14Ggg6B7Dol6gHNz3V67BDIVoqO7HHq9s_uHG68ppFQ=s64",
      "userId": "09024498764210840462"
     },
     "user_tz": -330
    },
    "id": "Ec6MzfNblItR",
    "outputId": "768a6bc5-c8c4-4fcf-82dd-c612f4b8a0a5"
   },
   "outputs": [
    {
     "data": {
      "image/png": "[encoded data removed]",
      "text/plain": [
       "<Figure size 432x288 with 1 Axes>"
      ]
     },
     "metadata": {
      "needs_background": "light",
      "tags": []
     },
     "output_type": "display_data"
    }
   ],
   "source": [
    "#Accuracies\n",
    "\n",
    "from matplotlib import pyplot as plt\n",
    "\n",
    "plt.plot(r.history['accuracy'], label = 'train acc')\n",
    "plt.plot(r.history['val_accuracy'], label = 'val acc')\n",
    "plt.legend()\n",
    "plt.show()"
   ]
  },
  {
   "cell_type": "code",
   "execution_count": null,
   "metadata": {
    "id": "bnzZ1jX6m9Pc"
   },
   "outputs": [],
   "source": []
  }
 ],
 "metadata": {
  "accelerator": "GPU",
  "colab": {
   "authorship_tag": "ABX9TyNl7urHpJ3YTKJwOBl5nh0k",
   "collapsed_sections": [],
   "name": "face_model_trianing.ipynb",
   "provenance": []
  },
  "kernelspec": {
   "display_name": "Python 3",
   "language": "python",
   "name": "python3"
  },
  "language_info": {
   "codemirror_mode": {
    "name": "ipython",
    "version": 3
   },
   "file_extension": ".py",
   "mimetype": "text/x-python",
   "name": "python",
   "nbconvert_exporter": "python",
   "pygments_lexer": "ipython3",
   "version": "3.8.10"
  }
 },
 "nbformat": 4,
 "nbformat_minor": 1
}

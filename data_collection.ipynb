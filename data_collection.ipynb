{
 "cells": [
  {
   "cell_type": "code",
   "execution_count": 19,
   "id": "b37a3f4f",
   "metadata": {},
   "outputs": [],
   "source": [
    "#Save images using Webcam\n",
    "#Using mediapipe library\n",
    "\n",
    "import cv2\n",
    "from time import sleep\n",
    "import mediapipe as mp\n",
    "\n",
    "\n",
    "video_capture = cv2.VideoCapture(0)\n",
    "font = cv2.FONT_HERSHEY_SIMPLEX\n",
    "\n",
    "mpFaceDetection = mp.solutions.face_detection\n",
    "mpDraw = mp.solutions.drawing_utils\n",
    "faceDetection = mpFaceDetection.FaceDetection(0.45)\n",
    "\n",
    "num=0\n",
    "directory = 'Images/Manasvi/'\n",
    "while num<200:\n",
    "\n",
    "    ret, frame = video_capture.read()\n",
    "\n",
    "    imgRGB = cv2.cvtColor(frame, cv2.COLOR_BGR2RGB)\n",
    "    results = faceDetection.process(imgRGB)\n",
    "\n",
    "    \n",
    "\n",
    "    if(results.detections):\n",
    "        for id, detection in enumerate(results.detections):\n",
    "            \n",
    "            bboxC = detection.location_data.relative_bounding_box\n",
    "            img_h, img_w, img_c = frame.shape\n",
    "            \n",
    "            xmin = int(bboxC.xmin * img_w)\n",
    "            ymin = int(bboxC.ymin * img_h)\n",
    "            w = int(bboxC.width * img_w)\n",
    "            h = int(bboxC.height * img_h)\n",
    "\n",
    "            frame = frame[xmin:xmin+w, ymin:ymin+h]\n",
    "            \n",
    "            \n",
    "            \n",
    "            cv2.imwrite(directory + str(num) + '.jpg', frame)\n",
    "\n",
    "            cv2.imshow('Video', frame)\n",
    "            num+=1\n",
    "            #sleep(0.01)\n",
    "            \n",
    "    \n",
    "\n",
    "\n",
    "    if(cv2.waitKey(1) & 0xFF == ord('q')):\n",
    "        break\n",
    "    \n",
    "\n",
    "video_capture.release()\n",
    "cv2.destroyAllWindows()"
   ]
  },
  {
   "cell_type": "code",
   "execution_count": null,
   "id": "fa21b87e",
   "metadata": {},
   "outputs": [],
   "source": []
  }
 ],
 "metadata": {
  "kernelspec": {
   "display_name": "Python 3",
   "language": "python",
   "name": "python3"
  },
  "language_info": {
   "codemirror_mode": {
    "name": "ipython",
    "version": 3
   },
   "file_extension": ".py",
   "mimetype": "text/x-python",
   "name": "python",
   "nbconvert_exporter": "python",
   "pygments_lexer": "ipython3",
   "version": "3.9.5"
  }
 },
 "nbformat": 4,
 "nbformat_minor": 5
}

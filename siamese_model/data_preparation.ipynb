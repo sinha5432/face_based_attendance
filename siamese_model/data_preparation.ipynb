{
 "cells": [
  {
   "cell_type": "code",
   "execution_count": null,
   "id": "4deaf3a3",
   "metadata": {},
   "outputs": [],
   "source": [
    "#Code to read images and detect faces in it\n",
    "#Saving fcropped faces in different directory\n",
    "\n",
    "import os\n",
    "import cv2\n",
    "from time import sleep\n",
    "import mediapipe as mp\n",
    "\n",
    "\n",
    "mpFaceDetection = mp.solutions.face_detection\n",
    "faceDetection = mpFaceDetection.FaceDetection(0.85)\n",
    "\n",
    "dir_read = r'unprocessed_data/Barack_obama/'\n",
    "dir_write = r'data/queen_elizabeth/'\n",
    "\n",
    "\n",
    "\n",
    "for i, filename in enumerate(os.listdir(dir_read)):\n",
    "    \n",
    "        \n",
    "    frame = cv2.imread(dir_read + str(filename))\n",
    "    if(frame is not None):\n",
    "        imgRGB = cv2.cvtColor(frame, cv2.COLOR_BGR2RGB)\n",
    "        results = faceDetection.process(imgRGB)\n",
    "\n",
    "\n",
    "    if(results.detections):\n",
    "        for id, detection in enumerate(results.detections):\n",
    "\n",
    "            bboxC = detection.location_data.relative_bounding_box\n",
    "            img_h, img_w, img_c = frame.shape\n",
    "\n",
    "            xmin = int(bboxC.xmin * img_w)\n",
    "            ymin = int(bboxC.ymin * img_h)\n",
    "            w = int(bboxC.width * img_w)\n",
    "            h = int(bboxC.height * img_h)\n",
    "\n",
    "            new_frame = frame[ymin:ymin+h, xmin:xmin+w]\n",
    "            if(new_frame.size):\n",
    "                new_frame = cv2.resize(new_frame, (100, 100), interpolation = cv2.INTER_CUBIC)\n",
    "                print(filename)\n",
    "                cv2.imwrite(dir_write + str(i) + '.jpg', new_frame)\n",
    "            "
   ]
  },
  {
   "cell_type": "code",
   "execution_count": null,
   "id": "b5523ad2",
   "metadata": {},
   "outputs": [],
   "source": [
    "#Renaming them again after manual deleting\n",
    "\n",
    "import os\n",
    "\n",
    "for i, filename in enumerate(os.listdir(dir_write)):\n",
    "    os.rename(dir_write + filename,dir_write + 'donald' + str(i) + '.jpg')\n",
    "        \n",
    "\n",
    "for i, filename in enumerate(os.listdir(dir_write)):\n",
    "    os.rename(dir_write + filename,dir_write + str(i) + '.jpg')"
   ]
  },
  {
   "cell_type": "code",
   "execution_count": 100,
   "id": "a94a2849",
   "metadata": {},
   "outputs": [],
   "source": [
    "#resize data from previous model\n",
    "import cv2\n",
    "import os\n",
    "\n",
    "dir_read = r'data/donald_trump/'\n",
    "\n",
    "for i, filename in enumerate(os.listdir(dir_read)):\n",
    "\n",
    "    frame = cv2.imread(dir_read + str(filename))\n",
    "    frame = cv2.cvtColor(frame, cv2.COLOR_BGR2GRAY)\n",
    "    frame = cv2.resize(frame, (100, 100), interpolation = cv2.INTER_CUBIC)\n",
    "    cv2.imwrite(dir_read + str(i) + '.jpg', frame)\n",
    "    "
   ]
  },
  {
   "cell_type": "code",
   "execution_count": 94,
   "id": "ac29acb2",
   "metadata": {},
   "outputs": [],
   "source": [
    "#Data Augmentation\n",
    "\n",
    "import random\n",
    "from scipy import ndarray\n",
    "import skimage as sk\n",
    "from skimage import transform\n",
    "from skimage import util\n",
    "\n",
    "def random_rotation(image_array: ndarray):\n",
    "    random_degree = random.uniform(-10, 10)\n",
    "    return sk.transform.rotate(image_array, random_degree)\n",
    "\n",
    "def random_noise(image_array: ndarray):\n",
    "    # add random noise to the image\n",
    "    return sk.util.random_noise(image_array,mode='s&p', amount = 0.015)\n",
    "\n",
    "def horizontal_flip(image_array: ndarray):\n",
    "    # horizontal flip doesn't need skimage, it's easy as flipping the image array of pixels !\n",
    "    return image_array[:, ::-1]"
   ]
  },
  {
   "cell_type": "code",
   "execution_count": 101,
   "id": "bca6f30d",
   "metadata": {},
   "outputs": [],
   "source": [
    "import random\n",
    "import os\n",
    "from skimage import io\n",
    "from skimage import img_as_ubyte\n",
    "\n",
    "\n",
    "folder_path = r'data/donald_trump/'\n",
    "augmented_path = r'augmented_data/donald_trump/'\n",
    "\n",
    "# dictionary of the transformations functions we defined earlier\n",
    "available_transformations = {\n",
    "    'rotate': random_rotation,\n",
    "    'noise': random_noise,\n",
    "    'horizontal_flip': horizontal_flip\n",
    "}\n",
    "\n",
    "num_files_desired = 1000\n",
    "\n",
    "# loop on all files of the folder and build a list of files paths\n",
    "images = [os.path.join(folder_path, f) for f in os.listdir(folder_path) if os.path.isfile(os.path.join(folder_path, f))]\n",
    "\n",
    "\n",
    "num_generated_files = 0\n",
    "\n",
    "while num_generated_files <= num_files_desired:\n",
    "    \n",
    "    image_path = random.choice(images)\n",
    "    image_to_transform = io.imread(image_path)\n",
    "    \n",
    "    \n",
    "    num_transformations_to_apply = random.randint(1, len(available_transformations))\n",
    "    num_transformations = 0\n",
    "    transformed_image = None\n",
    "    \n",
    "    while num_transformations <= num_transformations_to_apply:\n",
    "        # choose a random transformation to apply for a single image\n",
    "        key = random.choice(list(available_transformations))\n",
    "        transformed_image = available_transformations[key](image_to_transform)\n",
    "    \n",
    "        num_transformations += 1\n",
    "        \n",
    "\n",
    "    transformed_image = img_as_ubyte(transformed_image)    \n",
    "    io.imsave(augmented_path + str(num_generated_files) + '.jpg', transformed_image)\n",
    "    num_generated_files += 1"
   ]
  },
  {
   "cell_type": "code",
   "execution_count": 102,
   "id": "c94b4f09",
   "metadata": {},
   "outputs": [],
   "source": [
    "# barack_obama: 0\n",
    "# bill_gates: 1\n",
    "# donald_trump: 2\n",
    "# queen_elizabeth: 3\n",
    "\n",
    "import glob\n",
    "import cv2\n",
    "import numpy as np\n",
    "\n",
    "X = []\n",
    "Y = []\n",
    "\n",
    "for filename in glob.iglob('augmented_data/*/*', recursive = True):\n",
    "    img = cv2.imread(filename)\n",
    "    img = cv2.cvtColor(img, cv2.COLOR_BGR2GRAY)\n",
    "    X.append(np.asarray(img))\n",
    "    if 'barack_obama' in filename:\n",
    "        Y.append(0)\n",
    "    elif 'bill_gates' in filename:\n",
    "        Y.append(1)\n",
    "    elif 'donald_trump' in filename:\n",
    "        Y.append(2)\n",
    "    elif 'queen_elizabeth' in filename:\n",
    "        Y.append(3)\n",
    "        \n",
    "\n"
   ]
  },
  {
   "cell_type": "code",
   "execution_count": 124,
   "id": "f7bdd16c",
   "metadata": {},
   "outputs": [],
   "source": [
    "del x\n",
    "x = np.asarray(X)"
   ]
  },
  {
   "cell_type": "code",
   "execution_count": 125,
   "id": "e57e802b",
   "metadata": {},
   "outputs": [
    {
     "data": {
      "text/plain": [
       "(4004, 100, 100)"
      ]
     },
     "execution_count": 125,
     "metadata": {},
     "output_type": "execute_result"
    }
   ],
   "source": [
    "x.shape"
   ]
  },
  {
   "cell_type": "code",
   "execution_count": 126,
   "id": "fdc196e5",
   "metadata": {},
   "outputs": [],
   "source": [
    "y = np.asarray(Y)"
   ]
  },
  {
   "cell_type": "code",
   "execution_count": 127,
   "id": "20244336",
   "metadata": {},
   "outputs": [
    {
     "data": {
      "text/plain": [
       "(4004,)"
      ]
     },
     "execution_count": 127,
     "metadata": {},
     "output_type": "execute_result"
    }
   ],
   "source": [
    "y.shape"
   ]
  },
  {
   "cell_type": "code",
   "execution_count": 135,
   "id": "b1a3b343",
   "metadata": {},
   "outputs": [
    {
     "name": "stdout",
     "output_type": "stream",
     "text": [
      "3\n"
     ]
    },
    {
     "data": {
      "text/plain": [
       "<matplotlib.image.AxesImage at 0x2a92410fb80>"
      ]
     },
     "execution_count": 135,
     "metadata": {},
     "output_type": "execute_result"
    },
    {
     "data": {
      "image/png": "[encoded data removed]",
      "text/plain": [
       "<Figure size 432x288 with 1 Axes>"
      ]
     },
     "metadata": {
      "needs_background": "light"
     },
     "output_type": "display_data"
    }
   ],
   "source": [
    "from matplotlib.pyplot import imshow\n",
    "\n",
    "print(y[4001])\n",
    "imshow(x[4001], cmap = 'gray')\n"
   ]
  },
  {
   "cell_type": "code",
   "execution_count": 137,
   "id": "8a012b90",
   "metadata": {},
   "outputs": [],
   "source": [
    "import pickle\n",
    "pickle.dump(x, open(\"data_X.pkl\", \"wb\"))\n",
    "pickle.dump(y, open(\"data_y.pkl\", \"wb\"))"
   ]
  },
  {
   "cell_type": "code",
   "execution_count": 3,
   "id": "74a76826",
   "metadata": {},
   "outputs": [
    {
     "data": {
      "text/plain": [
       "(4004, 100, 100)"
      ]
     },
     "execution_count": 3,
     "metadata": {},
     "output_type": "execute_result"
    }
   ],
   "source": [
    "import pickle\n",
    "x = pickle.load(open('data_X.pkl', 'rb'))\n",
    "x.shape"
   ]
  },
  {
   "cell_type": "code",
   "execution_count": null,
   "id": "ed2134e9",
   "metadata": {},
   "outputs": [],
   "source": []
  }
 ],
 "metadata": {
  "kernelspec": {
   "display_name": "Python 3",
   "language": "python",
   "name": "python3"
  },
  "language_info": {
   "codemirror_mode": {
    "name": "ipython",
    "version": 3
   },
   "file_extension": ".py",
   "mimetype": "text/x-python",
   "name": "python",
   "nbconvert_exporter": "python",
   "pygments_lexer": "ipython3",
   "version": "3.8.10"
  }
 },
 "nbformat": 4,
 "nbformat_minor": 5
}

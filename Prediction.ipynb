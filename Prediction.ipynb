{
 "cells": [
  {
   "cell_type": "markdown",
   "id": "dc124231",
   "metadata": {},
   "source": [
    "As, we cannot upload files above 100MB on Github, use following\n",
    "link for DL model: \n",
    "https://drive.google.com/file/d/132UYdj43vz8kgakjtm3zMtFN65IwvLXx/view?usp=sharing\n",
    "\n",
    "Place it inside \"models\" folder in this repo"
   ]
  },
  {
   "cell_type": "code",
   "execution_count": 2,
   "id": "b06aec09",
   "metadata": {},
   "outputs": [],
   "source": [
    "from PIL import Image\n",
    "from keras.applications.vgg16 import preprocess_input\n",
    "import cv2\n",
    "import numpy as np"
   ]
  },
  {
   "cell_type": "code",
   "execution_count": 3,
   "id": "67c4f7d3",
   "metadata": {},
   "outputs": [],
   "source": [
    "from keras.models import load_model\n",
    "model = load_model(r'models/vgg16_10ep.h5')"
   ]
  },
  {
   "cell_type": "code",
   "execution_count": 4,
   "id": "e3b03c3a",
   "metadata": {},
   "outputs": [],
   "source": [
    "import mediapipe as mp\n",
    "\n",
    "mpFaceDetection = mp.solutions.face_detection\n",
    "faceDetection = mpFaceDetection.FaceDetection(0.45)\n",
    "\n",
    "def face_extractor(frame):\n",
    "    \n",
    "    imgRGB = cv2.cvtColor(frame, cv2.COLOR_BGR2RGB)\n",
    "    results = faceDetection.process(imgRGB)\n",
    "    \n",
    "    \n",
    "    if(results.detections):\n",
    "        for id, detection in enumerate(results.detections):\n",
    "            \n",
    "            bboxC = detection.location_data.relative_bounding_box\n",
    "            img_h, img_w, img_c = frame.shape\n",
    "            \n",
    "            xmin = int(bboxC.xmin * img_w)\n",
    "            ymin = int(bboxC.ymin * img_h)\n",
    "            w = int(bboxC.width * img_w)\n",
    "            h = int(bboxC.height * img_h)\n",
    "            \n",
    "            \n",
    "            bbox = (int(bboxC.xmin * img_w), int(bboxC.ymin * img_h), int(bboxC.width * img_w), int(bboxC.height * img_h))\n",
    "\n",
    "            new_frame = frame[ymin:ymin+h, xmin:xmin+w]\n",
    "            \n",
    "    \n",
    "            return new_frame, bbox\n",
    "    else:\n",
    "        \n",
    "        return np.array([]), []\n",
    "        "
   ]
  },
  {
   "cell_type": "code",
   "execution_count": 16,
   "id": "7636c93f",
   "metadata": {
    "scrolled": true
   },
   "outputs": [],
   "source": [
    "video_capture = cv2.VideoCapture(0)\n",
    "font = cv2.FONT_HERSHEY_SIMPLEX\n",
    "import time\n",
    "\n",
    "pTime = time.time();\n",
    "\n",
    "while True:\n",
    "    _, frame = video_capture.read()\n",
    "    \n",
    "    face, bbox=face_extractor(frame)\n",
    "    \n",
    "    if(face.size):\n",
    "        face = cv2.resize(face, (224, 224)) #Resizing into 128x128 because we trained the model with this image size.\n",
    "        im = Image.fromarray(face, 'RGB')\n",
    "\n",
    "        img_array = np.array(im)/255.0\n",
    "\n",
    "        #Our keras model used a 4D tensor, (images x height x width x channel)\n",
    "        #So changing dimension 128x128x3 into 1x128x128x3 \n",
    "        img_array = np.expand_dims(img_array, axis=0)\n",
    "\n",
    "\n",
    "        pred = model.predict(img_array)\n",
    "        prediction = np.argmax(pred)\n",
    "        #print(prediction)\n",
    "\n",
    "        if(prediction == 0):\n",
    "            text = 'Barack Obama'\n",
    "        elif(prediction == 1):\n",
    "            text = 'Bill Gates'\n",
    "        elif(prediction == 2):\n",
    "            text = 'Donald Trump'\n",
    "        elif(prediction == 3):\n",
    "            text = 'Queen Elizabeth II'\n",
    "\n",
    "        cv2.rectangle(frame, bbox, (57, 255, 20), 2)\n",
    "        cv2.putText(frame, text, (bbox[0],bbox[1]-20), font, 0.8, (57, 255, 20), 2)\n",
    "        \n",
    "    else:\n",
    "        cv2.putText(frame, 'Face not found', (10, 50), font, 0.8, (57, 255, 20), 2)\n",
    "    \n",
    "    cTime = time.time()\n",
    "    fps = int(1/(cTime - pTime))\n",
    "    pTime = cTime\n",
    "\n",
    "    cv2.putText(frame, 'FPS: ' + str(fps), (10, 20), font, 0.8, (57, 255, 20), 2)\n",
    "    \n",
    "    cv2.imshow('Video', frame)\n",
    "    if cv2.waitKey(1) & 0xFF == ord('q'):\n",
    "        break\n",
    "\n",
    "        \n",
    "video_capture.release()\n",
    "cv2.destroyAllWindows()\n"
   ]
  },
  {
   "cell_type": "code",
   "execution_count": 7,
   "id": "65e9c984",
   "metadata": {},
   "outputs": [
    {
     "name": "stdout",
     "output_type": "stream",
     "text": [
      "(480, 640, 3)\n"
     ]
    }
   ],
   "source": [
    "print(frame.shape)"
   ]
  },
  {
   "cell_type": "code",
   "execution_count": null,
   "id": "c3036e4f",
   "metadata": {},
   "outputs": [],
   "source": []
  }
 ],
 "metadata": {
  "kernelspec": {
   "display_name": "Python 3",
   "language": "python",
   "name": "python3"
  },
  "language_info": {
   "codemirror_mode": {
    "name": "ipython",
    "version": 3
   },
   "file_extension": ".py",
   "mimetype": "text/x-python",
   "name": "python",
   "nbconvert_exporter": "python",
   "pygments_lexer": "ipython3",
   "version": "3.8.10"
  }
 },
 "nbformat": 4,
 "nbformat_minor": 5
}
